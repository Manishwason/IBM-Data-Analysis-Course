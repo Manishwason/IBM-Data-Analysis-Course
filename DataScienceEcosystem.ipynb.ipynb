{
 "cells": [
  {
   "cell_type": "markdown",
   "id": "e56c9329-1882-41d8-9fa8-f01e320afdce",
   "metadata": {
    "tags": []
   },
   "source": [
    "# Data Science Tools and Ecosystem\n",
    "\n",
    "In this notebook, Data Science Tools and Ecosystem are summarized."
   ]
  },
  {
   "cell_type": "markdown",
   "id": "6ed1a34e-d7fd-4bee-add7-2e3bc161d435",
   "metadata": {
    "tags": []
   },
   "source": [
    "**Some of the key takeaways from the course**\n",
    "\n",
    "- List popular languages for Data Science\n",
    "- commonly used libraries used by Data Scientists\n",
    "- Data Science Tools Table\n",
    "- Few examples of evaluating arithmetic expressions in Python"
   ]
  },
  {
   "cell_type": "markdown",
   "id": "75a7e2da-1528-4a0e-b984-92860be9e6db",
   "metadata": {
    "tags": []
   },
   "source": [
    "Some of the popular languages that Data Scientists use are:\n",
    "1. Python\n",
    "2. R\n",
    "3. SQL\n",
    "4. JavaScript\n",
    "5"
   ]
  },
  {
   "cell_type": "markdown",
   "id": "f214d81a-9df3-4d50-bf28-541d2f089572",
   "metadata": {},
   "source": [
    "Some of the commonly used libraries used by Data Scientists include:\n",
    "1. Panads\n",
    "2. numpy\n",
    "3. metplotlib"
   ]
  },
  {
   "cell_type": "markdown",
   "id": "3d68019b-e744-4351-812f-59776dc410b2",
   "metadata": {},
   "source": [
    "| Data Science Tools |\n",
    "| -------------|\n",
    "| Jupyter Notebook |\n",
    "| Rstudio |\n",
    "| Knime |"
   ]
  },
  {
   "cell_type": "markdown",
   "id": "becb5b31-a42d-4c69-877d-44f4887ecc22",
   "metadata": {},
   "source": [
    "### Below are a few examples of evaluating arithmetic expressions in Python.\n",
    "\n"
   ]
  },
  {
   "cell_type": "code",
   "execution_count": 23,
   "id": "f57a626e-271a-49cb-8931-085dd3473c1c",
   "metadata": {
    "tags": []
   },
   "outputs": [
    {
     "data": {
      "text/plain": [
       "9"
      ]
     },
     "execution_count": 23,
     "metadata": {},
     "output_type": "execute_result"
    }
   ],
   "source": [
    "10 + 5 - 2 * 3"
   ]
  },
  {
   "cell_type": "code",
   "execution_count": 24,
   "id": "1314a23b-b582-41c8-be20-ffe3a9966cc8",
   "metadata": {
    "tags": []
   },
   "outputs": [
    {
     "data": {
      "text/plain": [
       "8"
      ]
     },
     "execution_count": 24,
     "metadata": {},
     "output_type": "execute_result"
    }
   ],
   "source": [
    "2 ** 3 "
   ]
  },
  {
   "cell_type": "code",
   "execution_count": 25,
   "id": "b066df5e-46f9-47e6-b837-4991298befb5",
   "metadata": {
    "tags": []
   },
   "outputs": [
    {
     "data": {
      "text/plain": [
       "5"
      ]
     },
     "execution_count": 25,
     "metadata": {},
     "output_type": "execute_result"
    }
   ],
   "source": [
    "17 // 3"
   ]
  },
  {
   "cell_type": "code",
   "execution_count": 6,
   "id": "5b367808-c347-4183-861c-2372bbf4f1d4",
   "metadata": {
    "tags": []
   },
   "outputs": [
    {
     "data": {
      "text/plain": [
       "17"
      ]
     },
     "execution_count": 6,
     "metadata": {},
     "output_type": "execute_result"
    }
   ],
   "source": [
    "#This a simple arithmetic expression to mutiply then add integers.\n",
    "\n",
    "(3*4)+5"
   ]
  },
  {
   "cell_type": "code",
   "execution_count": 16,
   "id": "ab3c7c4d-83a3-4bf3-9996-2de5635cdd73",
   "metadata": {
    "tags": []
   },
   "outputs": [
    {
     "data": {
      "text/plain": [
       "3.3333333333333335"
      ]
     },
     "execution_count": 16,
     "metadata": {},
     "output_type": "execute_result"
    }
   ],
   "source": [
    "#This will convert 200 minutes to hours by diving by 60.\n",
    "\n",
    "minutes = 200\n",
    "minutes_per_hours = 60\n",
    "\n",
    "minutes/minutes_per_hours\n"
   ]
  },
  {
   "cell_type": "markdown",
   "id": "9f8dacf1-38c8-4894-91bc-e54c3b5738a7",
   "metadata": {},
   "source": [
    "## Author\n",
    "\n",
    "Manish Wason"
   ]
  },
  {
   "cell_type": "code",
   "execution_count": null,
   "id": "805467bb-fd13-4999-a8e7-d1ac77096e83",
   "metadata": {},
   "outputs": [],
   "source": []
  }
 ],
 "metadata": {
  "kernelspec": {
   "display_name": "Python",
   "language": "python",
   "name": "conda-env-python-py"
  },
  "language_info": {
   "codemirror_mode": {
    "name": "ipython",
    "version": 3
   },
   "file_extension": ".py",
   "mimetype": "text/x-python",
   "name": "python",
   "nbconvert_exporter": "python",
   "pygments_lexer": "ipython3",
   "version": "3.7.12"
  }
 },
 "nbformat": 4,
 "nbformat_minor": 5
}
